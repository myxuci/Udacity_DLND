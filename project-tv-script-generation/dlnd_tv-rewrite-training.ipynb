{
 "cells": [
  {
   "cell_type": "markdown",
   "metadata": {},
   "source": [
    "# TV Script Generation\n",
    "\n",
    "In this project, you'll generate your own [Seinfeld](https://en.wikipedia.org/wiki/Seinfeld) TV scripts using RNNs.  You'll be using part of the [Seinfeld dataset](https://www.kaggle.com/thec03u5/seinfeld-chronicles#scripts.csv) of scripts from 9 seasons.  The Neural Network you'll build will generate a new ,\"fake\" TV script, based on patterns it recognizes in this training data.\n",
    "\n",
    "## Get the Data\n",
    "\n",
    "The data is already provided for you in `./data/Seinfeld_Scripts.txt` and you're encouraged to open that file and look at the text. \n",
    ">* As a first step, we'll load in this data and look at some samples. \n",
    "* Then, you'll be tasked with defining and training an RNN to generate a new script!"
   ]
  },
  {
   "cell_type": "code",
   "execution_count": 1,
   "metadata": {},
   "outputs": [],
   "source": [
    "\"\"\"\n",
    "DON'T MODIFY ANYTHING IN THIS CELL\n",
    "\"\"\"\n",
    "# load in data\n",
    "import helper\n",
    "data_dir = './data/Seinfeld_Scripts.txt'\n",
    "text = helper.load_data(data_dir)\n",
    "\n",
    "import gc\n",
    "%load_ext autoreload\n",
    "%autoreload 2\n",
    "\n",
    "import torch\n",
    "# To temp fix training optimizer.step()\n",
    "# torch.backends.cudnn.enabled = False\n",
    "use_cuda = True if torch.cuda.is_available() else False"
   ]
  },
  {
   "cell_type": "markdown",
   "metadata": {},
   "source": [
    "## Explore the Data\n",
    "Play around with `view_line_range` to view different parts of the data. This will give you a sense of the data you'll be working with. You can see, for example, that it is all lowercase text, and each new line of dialogue is separated by a newline character `\\n`."
   ]
  },
  {
   "cell_type": "code",
   "execution_count": 2,
   "metadata": {},
   "outputs": [
    {
     "name": "stdout",
     "output_type": "stream",
     "text": [
      "Dataset Stats\n",
      "Roughly the number of unique words: 46367\n",
      "Number of lines: 109233\n",
      "Average number of words in each line: 5.544240293684143\n",
      "\n",
      "The lines 0 to 10:\n",
      "jerry: do you know what this is all about? do you know, why were here? to be out, this is out...and out is one of the single most enjoyable experiences of life. people...did you ever hear people talking about we should go out? this is what theyre talking about...this whole thing, were all out now, no one is home. not one person here is home, were all out! there are people trying to find us, they dont know where we are. (on an imaginary phone) did you ring?, i cant find him. where did he go? he didnt tell me where he was going. he must have gone out. you wanna go out you get ready, you pick out the clothes, right? you take the shower, you get all ready, get the cash, get your friends, the car, the spot, the reservation...then youre standing around, what do you do? you go we gotta be getting back. once youre out, you wanna get back! you wanna go to sleep, you wanna get up, you wanna go out again tomorrow, right? where ever you are in life, its my feeling, youve gotta go. \n",
      "\n",
      "jerry: (pointing at georges shirt) see, to me, that button is in the worst possible spot. the second button literally makes or breaks the shirt, look at it. its too high! its in no-mans-land. you look like you live with your mother. \n",
      "\n",
      "george: are you through? \n",
      "\n",
      "jerry: you do of course try on, when you buy? \n",
      "\n",
      "george: yes, it was purple, i liked it, i dont actually recall considering the buttons. \n",
      "\n"
     ]
    }
   ],
   "source": [
    "view_line_range = (0, 10)\n",
    "\n",
    "\"\"\"\n",
    "DON'T MODIFY ANYTHING IN THIS CELL THAT IS BELOW THIS LINE\n",
    "\"\"\"\n",
    "import numpy as np\n",
    "\n",
    "print('Dataset Stats')\n",
    "print('Roughly the number of unique words: {}'.format(len({word: None for word in text.split()})))\n",
    "\n",
    "lines = text.split('\\n')\n",
    "print('Number of lines: {}'.format(len(lines)))\n",
    "word_count_line = [len(line.split()) for line in lines]\n",
    "print('Average number of words in each line: {}'.format(np.average(word_count_line)))\n",
    "\n",
    "print()\n",
    "print('The lines {} to {}:'.format(*view_line_range))\n",
    "print('\\n'.join(text.split('\\n')[view_line_range[0]:view_line_range[1]]))"
   ]
  },
  {
   "cell_type": "markdown",
   "metadata": {},
   "source": [
    "---\n",
    "## Implement Pre-processing Functions\n",
    "The first thing to do to any dataset is pre-processing.  Implement the following pre-processing functions below:\n",
    "- Lookup Table\n",
    "- Tokenize Punctuation\n",
    "\n",
    "### Lookup Table\n",
    "To create a word embedding, you first need to transform the words to ids.  In this function, create two dictionaries:\n",
    "- Dictionary to go from the words to an id, we'll call `vocab_to_int`\n",
    "- Dictionary to go from the id to word, we'll call `int_to_vocab`\n",
    "\n",
    "Return these dictionaries in the following **tuple** `(vocab_to_int, int_to_vocab)`"
   ]
  },
  {
   "cell_type": "code",
   "execution_count": 3,
   "metadata": {},
   "outputs": [
    {
     "name": "stdout",
     "output_type": "stream",
     "text": [
      "Tests Passed\n"
     ]
    }
   ],
   "source": [
    "import problem_unittests as tests\n",
    "\n",
    "def create_lookup_tables(text):\n",
    "    \"\"\"\n",
    "    Create lookup tables for vocabulary\n",
    "    :param text: The text of tv scripts split into words\n",
    "    :return: A tuple of dicts (vocab_to_int, int_to_vocab)\n",
    "    \"\"\"\n",
    "    # TODO: Implement Function\n",
    "    # parsed_text = text.strip().split('')\n",
    "    \n",
    "    # Placeholder\n",
    "    vocab_to_int, int_to_vocab = {}, {}\n",
    "    for i, word in enumerate(set(text)):\n",
    "        vocab_to_int[word] = i\n",
    "        int_to_vocab[i] = word\n",
    "        \n",
    "    # return tuple\n",
    "    return (vocab_to_int, int_to_vocab)\n",
    "\n",
    "\n",
    "\"\"\"\n",
    "DON'T MODIFY ANYTHING IN THIS CELL THAT IS BELOW THIS LINE\n",
    "\"\"\"\n",
    "tests.test_create_lookup_tables(create_lookup_tables)"
   ]
  },
  {
   "cell_type": "markdown",
   "metadata": {},
   "source": [
    "### Tokenize Punctuation\n",
    "We'll be splitting the script into a word array using spaces as delimiters.  However, punctuations like periods and exclamation marks can create multiple ids for the same word. For example, \"bye\" and \"bye!\" would generate two different word ids.\n",
    "\n",
    "Implement the function `token_lookup` to return a dict that will be used to tokenize symbols like \"!\" into \"||Exclamation_Mark||\".  Create a dictionary for the following symbols where the symbol is the key and value is the token:\n",
    "- Period ( **.** )\n",
    "- Comma ( **,** )\n",
    "- Quotation Mark ( **\"** )\n",
    "- Semicolon ( **;** )\n",
    "- Exclamation mark ( **!** )\n",
    "- Question mark ( **?** )\n",
    "- Left Parentheses ( **(** )\n",
    "- Right Parentheses ( **)** )\n",
    "- Dash ( **-** )\n",
    "- Return ( **\\n** )\n",
    "\n",
    "This dictionary will be used to tokenize the symbols and add the delimiter (space) around it.  This separates each symbols as its own word, making it easier for the neural network to predict the next word. Make sure you don't use a value that could be confused as a word; for example, instead of using the value \"dash\", try using something like \"||dash||\"."
   ]
  },
  {
   "cell_type": "code",
   "execution_count": 4,
   "metadata": {},
   "outputs": [
    {
     "name": "stdout",
     "output_type": "stream",
     "text": [
      "Tests Passed\n"
     ]
    }
   ],
   "source": [
    "def token_lookup():\n",
    "    \"\"\"\n",
    "    Generate a dict to turn punctuation into a token.\n",
    "    :return: Tokenized dictionary where the key is the punctuation and the value is the token\n",
    "    \"\"\"\n",
    "    # TODO: Implement Function\n",
    "    token_to_word = {\n",
    "        '.' : '||period||',\n",
    "        ',' : '||comma||',\n",
    "        '\"' : '||quotationmark||',\n",
    "        ';' : '||semicolon||',\n",
    "        '!' : '||exclamationmark||',\n",
    "        '?' : '||questionmark||',\n",
    "        '(' : '||leftparentheses||',\n",
    "        ')' : '||rightparentheses||',\n",
    "        '-' : '||dash||',\n",
    "        '\\n' : '||return||'\n",
    "    }\n",
    "        \n",
    "    return token_to_word\n",
    "\n",
    "\"\"\"\n",
    "DON'T MODIFY ANYTHING IN THIS CELL THAT IS BELOW THIS LINE\n",
    "\"\"\"\n",
    "tests.test_tokenize(token_lookup)"
   ]
  },
  {
   "cell_type": "markdown",
   "metadata": {},
   "source": [
    "## Pre-process all the data and save it\n",
    "\n",
    "Running the code cell below will pre-process all the data and save it to file. You're encouraged to lok at the code for `preprocess_and_save_data` in the `helpers.py` file to see what it's doing in detail, but you do not need to change this code."
   ]
  },
  {
   "cell_type": "code",
   "execution_count": 5,
   "metadata": {},
   "outputs": [],
   "source": [
    "\"\"\"\n",
    "DON'T MODIFY ANYTHING IN THIS CELL\n",
    "\"\"\"\n",
    "# pre-process training data\n",
    "helper.preprocess_and_save_data(data_dir, token_lookup, create_lookup_tables)"
   ]
  },
  {
   "cell_type": "markdown",
   "metadata": {},
   "source": [
    "# Check Point\n",
    "This is your first checkpoint. If you ever decide to come back to this notebook or have to restart the notebook, you can start from here. The preprocessed data has been saved to disk."
   ]
  },
  {
   "cell_type": "code",
   "execution_count": 6,
   "metadata": {},
   "outputs": [],
   "source": [
    "\"\"\"\n",
    "DON'T MODIFY ANYTHING IN THIS CELL\n",
    "\"\"\"\n",
    "import helper\n",
    "import problem_unittests as tests\n",
    "\n",
    "int_text, vocab_to_int, int_to_vocab, token_dict = helper.load_preprocess()"
   ]
  },
  {
   "cell_type": "code",
   "execution_count": null,
   "metadata": {},
   "outputs": [],
   "source": []
  },
  {
   "cell_type": "markdown",
   "metadata": {},
   "source": [
    "## Build the Neural Network\n",
    "In this section, you'll build the components necessary to build an RNN by implementing the RNN Module and forward and backpropagation functions.\n",
    "\n",
    "### Check Access to GPU"
   ]
  },
  {
   "cell_type": "code",
   "execution_count": 7,
   "metadata": {},
   "outputs": [],
   "source": [
    "\"\"\"\n",
    "DON'T MODIFY ANYTHING IN THIS CELL\n",
    "\"\"\"\n",
    "import torch\n",
    "\n",
    "# Check for a GPU\n",
    "train_on_gpu = torch.cuda.is_available()\n",
    "\n",
    "if not train_on_gpu:\n",
    "    print('No GPU found. Please use a GPU to train your neural network.')"
   ]
  },
  {
   "cell_type": "code",
   "execution_count": 8,
   "metadata": {},
   "outputs": [
    {
     "name": "stdout",
     "output_type": "stream",
     "text": [
      "True\n"
     ]
    }
   ],
   "source": [
    "print(train_on_gpu)"
   ]
  },
  {
   "cell_type": "markdown",
   "metadata": {},
   "source": [
    "## Input\n",
    "Let's start with the preprocessed input data. We'll use [TensorDataset](http://pytorch.org/docs/master/data.html#torch.utils.data.TensorDataset) to provide a known format to our dataset; in combination with [DataLoader](http://pytorch.org/docs/master/data.html#torch.utils.data.DataLoader), it will handle batching, shuffling, and other dataset iteration functions.\n",
    "\n",
    "You can create data with TensorDataset by passing in feature and target tensors. Then create a DataLoader as usual.\n",
    "```\n",
    "data = TensorDataset(feature_tensors, target_tensors)\n",
    "data_loader = torch.utils.data.DataLoader(data, \n",
    "                                          batch_size=batch_size)\n",
    "```\n",
    "\n",
    "### Batching\n",
    "Implement the `batch_data` function to batch `words` data into chunks of size `batch_size` using the `TensorDataset` and `DataLoader` classes.\n",
    "\n",
    ">You can batch words using the DataLoader, but it will be up to you to create `feature_tensors` and `target_tensors` of the correct size and content for a given `sequence_length`.\n",
    "\n",
    "For example, say we have these as input:\n",
    "```\n",
    "words = [1, 2, 3, 4, 5, 6, 7]\n",
    "sequence_length = 4\n",
    "```\n",
    "\n",
    "Your first `feature_tensor` should contain the values:\n",
    "```\n",
    "[1, 2, 3, 4]\n",
    "```\n",
    "And the corresponding `target_tensor` should just be the next \"word\":\n",
    "```\n",
    "5\n",
    "```\n",
    "This should continue with the second `feature_tensor`, `target_tensor` being:\n",
    "```\n",
    "[2, 3, 4, 5]  # features\n",
    "6             # target\n",
    "```"
   ]
  },
  {
   "cell_type": "code",
   "execution_count": 9,
   "metadata": {},
   "outputs": [
    {
     "name": "stdout",
     "output_type": "stream",
     "text": [
      "Testing...\n",
      "\n",
      "Data:  tensor([[34,  1, 37, 19],\n",
      "        [ 1, 37, 19,  2]], device='cuda:0')\n",
      "Target:  tensor([ 2, 17], device='cuda:0')\n"
     ]
    },
    {
     "data": {
      "text/plain": [
       "0"
      ]
     },
     "execution_count": 9,
     "metadata": {},
     "output_type": "execute_result"
    }
   ],
   "source": [
    "from torch.utils.data import TensorDataset, DataLoader\n",
    "\n",
    "def batch_data(words, sequence_length, batch_size):\n",
    "    \"\"\"\n",
    "    Batch the neural network data using DataLoader\n",
    "    :param words: The word ids of the TV scripts\n",
    "    :param sequence_length: The sequence length of each batch\n",
    "    :param batch_size: The size of each batch; the number of sequences in a batch\n",
    "    :return: DataLoader with batched data\n",
    "    \"\"\"\n",
    "    # TODO: Implement function\n",
    "    assert type(sequence_length)==int, 'Input parameter sequeence_length can only be integers.'\n",
    "    \n",
    "    n_batch = len(words) // ( batch_size * sequence_length)\n",
    "    words = words[:n_batch*batch_size*sequence_length+sequence_length]\n",
    "    \n",
    "    # Map words to numbers:\n",
    "    vocab_to_int, int_to_vocab = create_lookup_tables(words)\n",
    "    text_to_numbers = [vocab_to_int[_word] for _word in words]\n",
    "    \n",
    "    feature_list = []\n",
    "    target_list = []\n",
    "    \n",
    "    for index in range(len(words)-sequence_length):\n",
    "        feature_list.append(text_to_numbers[index:(index+sequence_length)])\n",
    "        target_list.append(text_to_numbers[(index+sequence_length)])\n",
    "\n",
    "    feature_tensors = torch.from_numpy(np.array(feature_list)).long()\n",
    "    target_tensors = torch.from_numpy(np.array(target_list)).long()\n",
    "    \n",
    "    if train_on_gpu:\n",
    "        dataset = TensorDataset(feature_tensors.cuda(), target_tensors.cuda())\n",
    "    else:\n",
    "        dataset = TensorDataset(feature_tensors, target_tensors)\n",
    "        \n",
    "    dataloader = DataLoader(dataset, batch_size=batch_size)\n",
    "    \n",
    "    # return a dataloader|\n",
    "    return dataloader\n",
    "\n",
    "# def batch_data(words, sequence_length, batch_size):\n",
    "#     \"\"\"\n",
    "#     Batch the neural network data using DataLoader\n",
    "#     :param words: The word ids of the TV scripts\n",
    "#     :param sequence_length: The sequence length of each batch\n",
    "#     :param batch_size: The size of each batch; the number of sequences in a batch\n",
    "#     :return: DataLoader with batched data\n",
    "#     \"\"\"\n",
    "    \n",
    "#     # TODO: Implement function\n",
    "#     assert type(sequence_length)==int, 'Input parameter sequeence_length can only be integers.'\n",
    "    \n",
    "#     # Map words to numbers:\n",
    "#     vocab_to_int, int_to_vocab = create_lookup_tables(words)\n",
    "#     text_to_numbers = np.array([vocab_to_int[_word] for _word in words])\n",
    "    \n",
    "#     n_batch = int(text_to_numbers.shape[0] // (sequence_length * batch_size))\n",
    "    \n",
    "#     text_to_numbers = text_to_numbers[:n_batch*sequence_length*batch_size]\n",
    "#     text_to_numbers = text_to_numbers.reshape(batch_size, -1)\n",
    "    \n",
    "#     feature_list = []\n",
    "#     target_list = []\n",
    "    \n",
    "#     for i in range(0, text_to_numbers.shape[1], sequence_length):\n",
    "#         features = text_to_numbers[:, i:i+sequence_length]\n",
    "#         target = np.zeros([features.shape[0], 1])\n",
    "        \n",
    "#         try:\n",
    "#             # target[:, :-1], target[:, -1] = features[:, 1:], text_to_numbers[:, i+sequence_length]\n",
    "#             target[:, 0] = text_to_numbers[:, i+sequence_length]\n",
    "#         except IndexError:\n",
    "#             # Except last batch\n",
    "#             # target[:, :-1], target[:, -1] = features[:, 1:], text_to_numbers[:, 0]\n",
    "#             target[:, 0] = text_to_numbers[:, 0]\n",
    "            \n",
    "#         feature_list.append(features)\n",
    "#         target_list.append(target)\n",
    "    \n",
    "#     feature_tensors = torch.FloatTensor(feature_list)\n",
    "#     target_tensors = torch.FloatTensor(target_list)\n",
    "\n",
    "#     dataset = TensorDataset(feature_tensors, target_tensors)\n",
    "#     dataloader = DataLoader(dataset, batch_size=batch_size)\n",
    "    \n",
    "#     # return a dataloader\n",
    "#     return dataloader\n",
    "    \n",
    "\n",
    "# there is no test for this function, but you are encouraged to create\n",
    "# print statements and tests of your own\n",
    "\n",
    "print('Testing...\\n')\n",
    "_text = text\n",
    "token_to_word = token_lookup()\n",
    "for _key in token_to_word.keys():\n",
    "    _text = _text.replace(_key, token_to_word[_key])\n",
    "    \n",
    "_dataloader = batch_data(words=_text.strip().split(' ')[:50], sequence_length=4, batch_size=2)\n",
    "for i, (data, target) in enumerate(_dataloader):\n",
    "    if i > 0:\n",
    "        break\n",
    "    else:\n",
    "        print('Data: ', data)\n",
    "        print('Target: ', target)\n",
    "        \n",
    "del _dataloader\n",
    "gc.collect()"
   ]
  },
  {
   "cell_type": "code",
   "execution_count": 10,
   "metadata": {},
   "outputs": [
    {
     "data": {
      "text/plain": [
       "0"
      ]
     },
     "execution_count": 10,
     "metadata": {},
     "output_type": "execute_result"
    }
   ],
   "source": [
    "_t = text.strip().split(' ')\n",
    "gc.collect()"
   ]
  },
  {
   "cell_type": "code",
   "execution_count": null,
   "metadata": {},
   "outputs": [],
   "source": []
  },
  {
   "cell_type": "markdown",
   "metadata": {},
   "source": [
    "---\n",
    "## Build the Neural Network\n",
    "Implement an RNN using PyTorch's [Module class](http://pytorch.org/docs/master/nn.html#torch.nn.Module). You may choose to use a GRU or an LSTM. To complete the RNN, you'll have to implement the following functions for the class:\n",
    " - `__init__` - The initialize function. \n",
    " - `init_hidden` - The initialization function for an LSTM/GRU hidden state\n",
    " - `forward` - Forward propagation function.\n",
    " \n",
    "The initialize function should create the layers of the neural network and save them to the class. The forward propagation function will use these layers to run forward propagation and generate an output and a hidden state.\n",
    "\n",
    "**The output of this model should be the *last* batch of words** after a complete sequence has been processed. That is, for each input sequence of words, we only want to output one, next word."
   ]
  },
  {
   "cell_type": "code",
   "execution_count": 11,
   "metadata": {},
   "outputs": [
    {
     "name": "stdout",
     "output_type": "stream",
     "text": [
      "Tests Passed\n"
     ]
    }
   ],
   "source": [
    "import torch.nn as nn\n",
    "\n",
    "class RNN(nn.Module):\n",
    "    \n",
    "    def __init__(self, vocab_size, output_size, embedding_dim, hidden_dim, n_layers, dropout=0.5):\n",
    "        \"\"\"\n",
    "        Initialize the PyTorch RNN Module\n",
    "        :param vocab_size: The number of input dimensions of the neural network (the size of the vocabulary)\n",
    "        :param output_size: The number of output dimensions of the neural network\n",
    "        :param embedding_dim: The size of embeddings, should you choose to use them        \n",
    "        :param hidden_dim: The size of the hidden layer outputs\n",
    "        :param dropout: dropout to add in between LSTM/GRU layers\n",
    "        \"\"\"\n",
    "        super(RNN, self).__init__()\n",
    "        # TODO: Implement function\n",
    "        \n",
    "        # set class variables\n",
    "        self.vocab_size = vocab_size # sequence_length?\n",
    "        self.output_size = output_size\n",
    "        self.n_layers = n_layers\n",
    "        self.hidden_dim = hidden_dim\n",
    "        self.embedding_dim = embedding_dim\n",
    "        self.dropout_prob = dropout\n",
    "        \n",
    "        # define model layers\n",
    "        self.embeddings = nn.Embedding(self.vocab_size, self.embedding_dim)\n",
    "        self.gru = nn.GRU(self.embedding_dim, self.hidden_dim, self.n_layers, dropout=self.dropout_prob, batch_first=True)\n",
    "#         self.rnn = nn.RNN(self.embedding_dim, self.hidden_dim, self.n_layers, batch_first=True)\n",
    "\n",
    "        self.lstm = nn.LSTM(self.embedding_dim, self.hidden_dim, self.n_layers, dropout=self.dropout_prob, batch_first=True)\n",
    "        \n",
    "        self.dropout = nn.Dropout(self.dropout_prob)\n",
    "        self.activation = nn.ReLU()\n",
    "        self.output_activation = nn.LogSoftmax(dim=1)\n",
    "        \n",
    "        self.fc1 = nn.Linear(self.hidden_dim, self.hidden_dim * 2)\n",
    "        self.fc2 = nn.Linear(self.hidden_dim * 2, self.hidden_dim * 4)\n",
    "        \n",
    "        # Output layer:\n",
    "        self.fc3 = nn.Linear(self.hidden_dim * 4, self.output_size)\n",
    "    \n",
    "    def forward(self, nn_input, hidden):\n",
    "        \"\"\"\n",
    "        Forward propagation of the neural network\n",
    "        :param nn_input: The input to the neural network\n",
    "        :param hidden: The hidden state        \n",
    "        :return: Two Tensors, the output of the neural network and the latest hidden state\n",
    "        \"\"\"\n",
    "        # TODO: Implement function  \n",
    "        # embedded = self.embeddings(nn_input.cuda()) if torch.cuda.is_available() else self.embeddings(nn_input)\n",
    "        \n",
    "        # If don't add .long() method, will cause:\n",
    "        # RuntimeError: Expected tensor for argument #1 'indices' to have scalar type Long; but got CUDAIntTensor instead (while checking arguments for embedding)\n",
    "        embedded = self.embeddings(nn_input.long())\n",
    "\n",
    "        # Pack padded batch of sequences for RNN module\n",
    "        # packed = torch.nn.utils.rnn.pack_padded_sequence(embedded, input_lengths)\n",
    "        # embedded = embedded.unsqueeze(0)\n",
    "        \n",
    "        # Forward pass through GRU\n",
    "        outputs, hidden = self.lstm(embedded, hidden)\n",
    "        # if isinstance(hidden, tuple):\n",
    "        #    hidden = hidden[0]\n",
    "            \n",
    "        # outputs, hidden = self.gru(embedded, hidden)\n",
    "        outputs = self.dropout(outputs)\n",
    "        \n",
    "        # My work: get the last dimension of seq data\n",
    "        outputs = outputs[:,-1,:]\n",
    "        \n",
    "        # Unpack padding\n",
    "        # outputs, _ = nn.utils.rnn.pad_packed_sequence(outputs)\n",
    "        # Sum bidirectional GRU outputs\n",
    "        \n",
    "        outputs = outputs.contiguous().view(-1, self.hidden_dim)\n",
    "        # outputs = outputs.view(outputs.size(0)*outputs.size(1), outputs.size(2))\n",
    "        \n",
    "        outputs = self.activation(self.fc1(outputs))\n",
    "        outputs = self.dropout(outputs)\n",
    "        outputs = self.activation(self.fc2(outputs))\n",
    "        outputs = self.dropout(outputs)\n",
    "        \n",
    "        # Final output\n",
    "        outputs = self.output_activation(self.fc3(outputs))\n",
    "        \n",
    "        # return one batch of output word scores and the hidden state\n",
    "        # return torch.nn.functional.log_softmax(outputs, dim=1), hidden\n",
    "        return outputs, hidden\n",
    "    \n",
    "    def init_hidden(self, batch_size):\n",
    "        '''\n",
    "        Initialize the hidden state of an LSTM/GRU\n",
    "        :param batch_size: The batch_size of the hidden state\n",
    "        :return: hidden state of dims (n_layers, batch_size, hidden_dim)\n",
    "        '''\n",
    "        # Implement function\n",
    "        \n",
    "        # initialize hidden state with zero weights, and move to GPU if available\n",
    "        # return torch.autograd.Variable(torch.rand(self.n_layers, batch_size, self.hidden_dim)).cuda()\n",
    "        \n",
    "        weight = next(self.parameters()).data\n",
    "        \n",
    "        if (train_on_gpu):\n",
    "            hidden = (weight.new(self.n_layers, batch_size, self.hidden_dim).zero_().cuda(),\n",
    "                  weight.new(self.n_layers, batch_size, self.hidden_dim).zero_().cuda())\n",
    "        else:\n",
    "            hidden = (weight.new(self.n_layers, batch_size, self.hidden_dim).zero_(),\n",
    "                      weight.new(self.n_layers, batch_size, self.hidden_dim).zero_())\n",
    "        \n",
    "        return hidden\n",
    "\n",
    "\"\"\"\n",
    "DON'T MODIFY ANYTHING IN THIS CELL THAT IS BELOW THIS LINE\n",
    "\"\"\"\n",
    "\n",
    "tests.test_rnn(RNN, train_on_gpu)"
   ]
  },
  {
   "cell_type": "code",
   "execution_count": 12,
   "metadata": {},
   "outputs": [
    {
     "data": {
      "text/plain": [
       "0"
      ]
     },
     "execution_count": 12,
     "metadata": {},
     "output_type": "execute_result"
    }
   ],
   "source": [
    "gc.collect()"
   ]
  },
  {
   "cell_type": "markdown",
   "metadata": {},
   "source": [
    "### Define forward and backpropagation\n",
    "\n",
    "Use the RNN class you implemented to apply forward and back propagation. This function will be called, iteratively, in the training loop as follows:\n",
    "```\n",
    "loss = forward_back_prop(decoder, decoder_optimizer, criterion, inp, target)\n",
    "```\n",
    "\n",
    "And it should return the average loss over a batch and the hidden state returned by a call to `RNN(inp, hidden)`. Recall that you can get this loss by computing it, as usual, and calling `loss.item()`.\n",
    "\n",
    "**If a GPU is available, you should move your data to that GPU device, here.**"
   ]
  },
  {
   "cell_type": "code",
   "execution_count": 13,
   "metadata": {},
   "outputs": [
    {
     "name": "stdout",
     "output_type": "stream",
     "text": [
      "Tests Passed\n"
     ]
    }
   ],
   "source": [
    "def forward_back_prop(rnn, optimizer, criterion, inp, target, hidden):\n",
    "    \"\"\"\n",
    "    Forward and backward propagation on the neural network\n",
    "    :param decoder: The PyTorch Module that holds the neural network\n",
    "    :param decoder_optimizer: The PyTorch optimizer for the neural network\n",
    "    :param criterion: The PyTorch loss function\n",
    "    :param inp: A batch of input to the neural network\n",
    "    :param target: The target output for the batch of input\n",
    "    :return: The loss and the latest hidden state Tensor\n",
    "    \"\"\"\n",
    "    \n",
    "    # TODO: Implement Function\n",
    "    assert len(inp) == len(target), \"The length of input data and targets does not matched.\"\n",
    "    \n",
    "    # move data to GPU, if available\n",
    "    if train_on_gpu:\n",
    "        inp, target = inp.cuda(), target.cuda()\n",
    "        # target = torch.autograd.Variable(target.long()).cuda()\n",
    "        # rnn.cuda()\n",
    "        # criterion = criterion.cuda()\n",
    "    # else:\n",
    "        # target = torch.autograd.Variable(target)\n",
    "        \n",
    "    # perform backpropagation and optimization\n",
    "    \n",
    "    # Removed this line:\n",
    "    # rnn.zero_grad()\n",
    "    # Then the error reduced much faster.\n",
    "    \n",
    "    output, hidden = rnn(inp, hidden)\n",
    "    optimizer.zero_grad()\n",
    "    loss = criterion(output.view(len(inp), -1), target)\n",
    "    loss.backward(retain_graph=True)\n",
    "    optimizer.step()\n",
    "    \n",
    "    loss_val = loss.item() / len(inp)\n",
    "    \n",
    "    # return the loss over a batch and the hidden state produced by our model\n",
    "    return loss_val, hidden\n",
    "\n",
    "# Note that these tests aren't completely extensive.\n",
    "# they are here to act as general checks on the expected outputs of your functions\n",
    "\"\"\"\n",
    "DON'T MODIFY ANYTHING IN THIS CELL THAT IS BELOW THIS LINE\n",
    "\"\"\"\n",
    "tests.test_forward_back_prop(RNN, forward_back_prop, train_on_gpu)"
   ]
  },
  {
   "cell_type": "code",
   "execution_count": 14,
   "metadata": {},
   "outputs": [
    {
     "data": {
      "text/plain": [
       "1803"
      ]
     },
     "execution_count": 14,
     "metadata": {},
     "output_type": "execute_result"
    }
   ],
   "source": [
    "gc.collect()"
   ]
  },
  {
   "cell_type": "markdown",
   "metadata": {},
   "source": [
    "## Neural Network Training\n",
    "\n",
    "With the structure of the network complete and data ready to be fed in the neural network, it's time to train it.\n",
    "\n",
    "### Train Loop\n",
    "\n",
    "The training loop is implemented for you in the `train_decoder` function. This function will train the network over all the batches for the number of epochs given. The model progress will be shown every number of batches. This number is set with the `show_every_n_batches` parameter. You'll set this parameter along with other parameters in the next section."
   ]
  },
  {
   "cell_type": "code",
   "execution_count": 15,
   "metadata": {},
   "outputs": [],
   "source": [
    "\"\"\"\n",
    "DON'T MODIFY ANYTHING IN THIS CELL\n",
    "\"\"\"\n",
    "\n",
    "def repackage_hidden(h):\n",
    "    \"\"\"Wraps hidden states in new Tensors, to detach them from their history.\"\"\"\n",
    "    if isinstance(h, torch.Tensor):\n",
    "        return h.detach()\n",
    "    else:\n",
    "        return tuple(repackage_hidden(v) for v in h)\n",
    "\n",
    "def train_rnn(rnn, batch_size, optimizer, criterion, n_epochs, show_every_n_batches=100):\n",
    "    batch_losses = []\n",
    "    \n",
    "    rnn.train()\n",
    "\n",
    "    print(\"Training for %d epoch(s)...\" % n_epochs)\n",
    "    for epoch_i in range(1, n_epochs + 1):\n",
    "        \n",
    "        # initialize hidden state\n",
    "        hidden = rnn.init_hidden(batch_size)\n",
    "        \n",
    "        # print(\"n_batch: \", len(train_loader)) # val: 6970\n",
    "        \n",
    "        for batch_i, (inputs, labels) in enumerate(train_loader, 1):\n",
    "            \n",
    "            # move data to GPU, if available\n",
    "            if train_on_gpu:\n",
    "                inputs, labels = inputs.cuda(), labels.cuda()\n",
    "                # target = torch.autograd.Variable(target.long()).cuda()\n",
    "                # rnn.cuda()\n",
    "                # criterion = criterion.cuda()\n",
    "            # else:\n",
    "                # target = torch.autograd.Variable(target)\n",
    "\n",
    "            # perform backpropagation and optimization\n",
    "\n",
    "            # Removed this line:\n",
    "            # rnn.zero_grad()\n",
    "            # Then the error reduced much faster.\n",
    "            \n",
    "            hidden = repackage_hidden(hidden)\n",
    "            rnn.zero_grad()\n",
    "            \n",
    "            output, hidden = rnn(inputs, hidden)\n",
    "            optimizer.zero_grad()\n",
    "            # loss = criterion(output.view(len(inputs), -1), target)\n",
    "            loss = criterion(output, labels)\n",
    "            \n",
    "#             if batch_i > 1:\n",
    "#                 loss.backward()\n",
    "#             else:\n",
    "#                 loss.backward(retain_graph=True)\n",
    "            loss.backward()\n",
    "            # loss.backward()\n",
    "            optimizer.step()\n",
    "\n",
    "            loss_val = loss.item() / len(inputs)\n",
    "            \n",
    "            del loss\n",
    "            gc.collect()\n",
    "            \n",
    "            # make sure you iterate over completely full batches, only\n",
    "            n_batches = len(train_loader.dataset)//batch_size\n",
    "            if(batch_i > n_batches):\n",
    "                break\n",
    "            \n",
    "            # forward, back prop\n",
    "            # loss, hidden = forward_back_prop(rnn, optimizer, criterion, inputs, labels, hidden)          \n",
    "            # record loss\n",
    "            batch_losses.append(loss_val)\n",
    "\n",
    "            # printing loss stats\n",
    "            if batch_i % show_every_n_batches == 0:\n",
    "                print('Epoch: {:>4}/{:<4}  Loss: {}\\n'.format(\n",
    "                    epoch_i, n_epochs, np.average(batch_losses)))\n",
    "                batch_losses = []\n",
    "\n",
    "    # returns a trained rnn\n",
    "    return rnn"
   ]
  },
  {
   "cell_type": "markdown",
   "metadata": {},
   "source": [
    "### Hyperparameters\n",
    "\n",
    "Set and train the neural network with the following parameters:\n",
    "- Set `sequence_length` to the length of a sequence.\n",
    "- Set `batch_size` to the batch size.\n",
    "- Set `num_epochs` to the number of epochs to train for.\n",
    "- Set `learning_rate` to the learning rate for an Adam optimizer.\n",
    "- Set `vocab_size` to the number of uniqe tokens in our vocabulary.\n",
    "- Set `output_size` to the desired size of the output.\n",
    "- Set `embedding_dim` to the embedding dimension; smaller than the vocab_size.\n",
    "- Set `hidden_dim` to the hidden dimension of your RNN.\n",
    "- Set `n_layers` to the number of layers/cells in your RNN.\n",
    "- Set `show_every_n_batches` to the number of batches at which the neural network should print progress.\n",
    "\n",
    "If the network isn't getting the desired results, tweak these parameters and/or the layers in the `RNN` class."
   ]
  },
  {
   "cell_type": "code",
   "execution_count": 16,
   "metadata": {},
   "outputs": [],
   "source": [
    "# Data params\n",
    "# Sequence Length\n",
    "sequence_length = 15 # of words in a sequence\n",
    "# Batch Size\n",
    "batch_size = 1024\n",
    "\n",
    "# data loader - do not change\n",
    "train_loader = batch_data(int_text, sequence_length, batch_size)"
   ]
  },
  {
   "cell_type": "code",
   "execution_count": 17,
   "metadata": {},
   "outputs": [
    {
     "name": "stdout",
     "output_type": "stream",
     "text": [
      "Train loader length: 870\n"
     ]
    }
   ],
   "source": [
    "print('Train loader length: {}'.format(len(train_loader)))"
   ]
  },
  {
   "cell_type": "code",
   "execution_count": 18,
   "metadata": {},
   "outputs": [],
   "source": [
    "# Training parameters\n",
    "# Number of Epochs\n",
    "num_epochs = 50\n",
    "# Learning Rate\n",
    "learning_rate = 0.001\n",
    "\n",
    "# Model parameters\n",
    "# Vocab size\n",
    "vocab_size = len(np.unique(int_text))\n",
    "# Output size\n",
    "output_size = vocab_size\n",
    "# Embedding Dimension\n",
    "embedding_dim = 400 \n",
    "# Hidden Dimension\n",
    "hidden_dim = 512\n",
    "# Number of RNN Layers\n",
    "n_layers = 3\n",
    "\n",
    "# Show stats for every n number of batches\n",
    "show_every_n_batches = 300"
   ]
  },
  {
   "cell_type": "code",
   "execution_count": 19,
   "metadata": {},
   "outputs": [
    {
     "name": "stdout",
     "output_type": "stream",
     "text": [
      "21387\n"
     ]
    },
    {
     "data": {
      "text/plain": [
       "0"
      ]
     },
     "execution_count": 19,
     "metadata": {},
     "output_type": "execute_result"
    }
   ],
   "source": [
    "print(len(np.unique(int_text)))\n",
    "gc.collect()"
   ]
  },
  {
   "cell_type": "markdown",
   "metadata": {},
   "source": [
    "### Train\n",
    "In the next cell, you'll train the neural network on the pre-processed data.  If you have a hard time getting a good loss, you may consider changing your hyperparameters. In general, you may get better results with larger hidden and n_layer dimensions, but larger models take a longer time to train. You should also experiment with different sequence lengths, which determine the size of the long range dependencies that a model can learn."
   ]
  },
  {
   "cell_type": "code",
   "execution_count": 20,
   "metadata": {
    "scrolled": false
   },
   "outputs": [
    {
     "name": "stdout",
     "output_type": "stream",
     "text": [
      "Training for 50 epoch(s)...\n",
      "Epoch:    1/50    Loss: 0.005267692914543052\n",
      "\n",
      "Epoch:    1/50    Loss: 0.004660573069316646\n",
      "\n",
      "Epoch:    2/50    Loss: 0.004390617499226018\n",
      "\n",
      "Epoch:    2/50    Loss: 0.004156861196582516\n",
      "\n",
      "Epoch:    3/50    Loss: 0.004088405072852446\n",
      "\n",
      "Epoch:    3/50    Loss: 0.0039826454711146654\n",
      "\n",
      "Epoch:    4/50    Loss: 0.003945522643053871\n",
      "\n",
      "Epoch:    4/50    Loss: 0.0038682624627836048\n",
      "\n",
      "Epoch:    5/50    Loss: 0.0038443548004388024\n",
      "\n",
      "Epoch:    5/50    Loss: 0.003779833007914325\n",
      "\n",
      "Epoch:    6/50    Loss: 0.003763980414358932\n",
      "\n",
      "Epoch:    6/50    Loss: 0.0037065859984916944\n",
      "\n",
      "Epoch:    7/50    Loss: 0.0036968000608970197\n",
      "\n",
      "Epoch:    7/50    Loss: 0.003645481493634482\n",
      "\n",
      "Epoch:    8/50    Loss: 0.003638809222907743\n",
      "\n",
      "Epoch:    8/50    Loss: 0.0035908954194746913\n",
      "\n",
      "Epoch:    9/50    Loss: 0.003591008909177362\n",
      "\n",
      "Epoch:    9/50    Loss: 0.0035443168443938097\n",
      "\n",
      "Epoch:   10/50    Loss: 0.0035457148992766936\n",
      "\n",
      "Epoch:   10/50    Loss: 0.003504210952669382\n",
      "\n",
      "Epoch:   11/50    Loss: 0.003505406704355489\n",
      "\n",
      "Epoch:   11/50    Loss: 0.0034647586235466103\n",
      "\n",
      "Epoch:   12/50    Loss: 0.0034705758715669315\n",
      "\n",
      "Epoch:   12/50    Loss: 0.003432690917979926\n",
      "\n",
      "Epoch:   13/50    Loss: 0.003440666859234242\n",
      "\n",
      "Epoch:   13/50    Loss: 0.0034020459776123364\n",
      "\n",
      "Epoch:   14/50    Loss: 0.0034128635345647734\n",
      "\n",
      "Epoch:   14/50    Loss: 0.0033738155864800018\n",
      "\n",
      "Epoch:   15/50    Loss: 0.0033854165706750853\n",
      "\n",
      "Epoch:   15/50    Loss: 0.0033504740777425468\n",
      "\n",
      "Epoch:   16/50    Loss: 0.003361718816960459\n",
      "\n",
      "Epoch:   16/50    Loss: 0.0033280633219207327\n",
      "\n",
      "Epoch:   17/50    Loss: 0.0033426902162956825\n",
      "\n",
      "Epoch:   17/50    Loss: 0.0033050474578825138\n",
      "\n",
      "Epoch:   18/50    Loss: 0.003319826213593938\n",
      "\n",
      "Epoch:   18/50    Loss: 0.003284813684877008\n",
      "\n",
      "Epoch:   19/50    Loss: 0.003300942913138945\n",
      "\n",
      "Epoch:   19/50    Loss: 0.003268032391400387\n",
      "\n",
      "Epoch:   20/50    Loss: 0.003285147608748\n",
      "\n",
      "Epoch:   20/50    Loss: 0.0032504530701165397\n",
      "\n",
      "Epoch:   21/50    Loss: 0.003267370431536907\n",
      "\n",
      "Epoch:   21/50    Loss: 0.003234645106519262\n",
      "\n",
      "Epoch:   22/50    Loss: 0.003253304777797638\n",
      "\n",
      "Epoch:   22/50    Loss: 0.003218672491299609\n",
      "\n",
      "Epoch:   23/50    Loss: 0.00323769198648893\n",
      "\n",
      "Epoch:   23/50    Loss: 0.0032060250244103374\n",
      "\n",
      "Epoch:   24/50    Loss: 0.003224098766957851\n",
      "\n",
      "Epoch:   24/50    Loss: 0.0031926819720926383\n",
      "\n",
      "Epoch:   25/50    Loss: 0.0032106869805016017\n",
      "\n",
      "Epoch:   25/50    Loss: 0.0031792724994011224\n",
      "\n",
      "Epoch:   26/50    Loss: 0.0031968099032447005\n",
      "\n",
      "Epoch:   26/50    Loss: 0.003166550739357869\n",
      "\n",
      "Epoch:   27/50    Loss: 0.0031857191948546915\n",
      "\n",
      "Epoch:   27/50    Loss: 0.0031594011109943193\n",
      "\n",
      "Epoch:   28/50    Loss: 0.003173388184963219\n",
      "\n",
      "Epoch:   28/50    Loss: 0.0031469775550067424\n",
      "\n",
      "Epoch:   29/50    Loss: 0.0031632801762929087\n",
      "\n",
      "Epoch:   29/50    Loss: 0.003135578354510168\n",
      "\n",
      "Epoch:   30/50    Loss: 0.0031519252063477773\n",
      "\n",
      "Epoch:   30/50    Loss: 0.0031235284785119197\n",
      "\n",
      "Epoch:   31/50    Loss: 0.0031420973742282703\n",
      "\n",
      "Epoch:   31/50    Loss: 0.003115917829951892\n",
      "\n",
      "Epoch:   32/50    Loss: 0.003133991423977964\n",
      "\n",
      "Epoch:   32/50    Loss: 0.0031044027279131113\n",
      "\n",
      "Epoch:   33/50    Loss: 0.0031217260049296574\n",
      "\n",
      "Epoch:   33/50    Loss: 0.00309868789355581\n",
      "\n",
      "Epoch:   34/50    Loss: 0.0031143823801948315\n",
      "\n",
      "Epoch:   34/50    Loss: 0.003088756584717582\n",
      "\n",
      "Epoch:   35/50    Loss: 0.003105358708355772\n",
      "\n",
      "Epoch:   35/50    Loss: 0.003081996433902532\n",
      "\n",
      "Epoch:   36/50    Loss: 0.0030963519992502895\n",
      "\n",
      "Epoch:   36/50    Loss: 0.003072348990632842\n",
      "\n",
      "Epoch:   37/50    Loss: 0.003088267346876755\n",
      "\n",
      "Epoch:   37/50    Loss: 0.0030643064784817396\n",
      "\n",
      "Epoch:   38/50    Loss: 0.0030806608522604955\n",
      "\n",
      "Epoch:   38/50    Loss: 0.0030566539405845108\n",
      "\n",
      "Epoch:   39/50    Loss: 0.003071873334007697\n",
      "\n",
      "Epoch:   39/50    Loss: 0.003050989550538361\n",
      "\n",
      "Epoch:   40/50    Loss: 0.003067817031650951\n",
      "\n",
      "Epoch:   40/50    Loss: 0.0030448982026427983\n",
      "\n",
      "Epoch:   41/50    Loss: 0.003058983135167836\n",
      "\n",
      "Epoch:   41/50    Loss: 0.0030349692151260873\n",
      "\n",
      "Epoch:   42/50    Loss: 0.003051208534784484\n",
      "\n",
      "Epoch:   42/50    Loss: 0.0030332866093764703\n",
      "\n",
      "Epoch:   43/50    Loss: 0.003046138153672872\n",
      "\n",
      "Epoch:   43/50    Loss: 0.0030232642140860357\n",
      "\n",
      "Epoch:   44/50    Loss: 0.0030373616854807266\n",
      "\n",
      "Epoch:   44/50    Loss: 0.0030181342169332006\n",
      "\n",
      "Epoch:   45/50    Loss: 0.003032122635315254\n",
      "\n",
      "Epoch:   45/50    Loss: 0.0030108053935691713\n",
      "\n",
      "Epoch:   46/50    Loss: 0.003023827830819707\n",
      "\n",
      "Epoch:   46/50    Loss: 0.00301047486330693\n",
      "\n",
      "Epoch:   47/50    Loss: 0.0030203424814859766\n",
      "\n",
      "Epoch:   47/50    Loss: 0.0030003749936198193\n",
      "\n",
      "Epoch:   48/50    Loss: 0.0030167361415040336\n",
      "\n",
      "Epoch:   48/50    Loss: 0.0029954800258080163\n",
      "\n",
      "Epoch:   49/50    Loss: 0.0030110244639217853\n",
      "\n",
      "Epoch:   49/50    Loss: 0.0029916947606640557\n",
      "\n",
      "Epoch:   50/50    Loss: 0.003006554104534811\n",
      "\n",
      "Epoch:   50/50    Loss: 0.002987391503993422\n",
      "\n"
     ]
    },
    {
     "name": "stderr",
     "output_type": "stream",
     "text": [
      "/home/ubuntu/anaconda3/envs/pytorch_p36/lib/python3.6/site-packages/torch/serialization.py:241: UserWarning: Couldn't retrieve source code for container of type RNN. It won't be checked for correctness upon loading.\n",
      "  \"type \" + obj.__name__ + \". It won't be checked \"\n"
     ]
    },
    {
     "name": "stdout",
     "output_type": "stream",
     "text": [
      "Model Trained and Saved\n"
     ]
    }
   ],
   "source": [
    "\"\"\"\n",
    "DON'T MODIFY ANYTHING IN THIS CELL\n",
    "\"\"\"\n",
    "\n",
    "# create model and move to gpu if available\n",
    "rnn = RNN(vocab_size, output_size, embedding_dim, hidden_dim, n_layers, dropout=0.5)\n",
    "if train_on_gpu:\n",
    "    rnn.cuda()\n",
    "\n",
    "# defining loss and optimization functions for training\n",
    "optimizer = torch.optim.Adam(rnn.parameters(), lr=learning_rate)\n",
    "# criterion = nn.CrossEntropyLoss()\n",
    "criterion = nn.NLLLoss()\n",
    "\n",
    "# training the model\n",
    "trained_rnn = train_rnn(rnn, batch_size, optimizer, criterion, num_epochs, show_every_n_batches)\n",
    "\n",
    "# saving the trained model\n",
    "helper.save_model('./save/trained_rnn', trained_rnn)\n",
    "print('Model Trained and Saved')"
   ]
  },
  {
   "cell_type": "code",
   "execution_count": null,
   "metadata": {},
   "outputs": [],
   "source": []
  },
  {
   "cell_type": "markdown",
   "metadata": {},
   "source": [
    "### Question: How did you decide on your model hyperparameters? \n",
    "For example, did you try different sequence_lengths and find that one size made the model converge faster? What about your hidden_dim and n_layers; how did you decide on those?"
   ]
  },
  {
   "cell_type": "markdown",
   "metadata": {},
   "source": [
    "**Answer:** (Write answer, here)"
   ]
  },
  {
   "cell_type": "markdown",
   "metadata": {},
   "source": [
    "---\n",
    "# Checkpoint\n",
    "\n",
    "After running the above training cell, your model will be saved by name, `trained_rnn`, and if you save your notebook progress, **you can pause here and come back to this code at another time**. You can resume your progress by running the next cell, which will load in our word:id dictionaries _and_ load in your saved model by name!"
   ]
  },
  {
   "cell_type": "code",
   "execution_count": 21,
   "metadata": {},
   "outputs": [],
   "source": [
    "\"\"\"\n",
    "DON'T MODIFY ANYTHING IN THIS CELL\n",
    "\"\"\"\n",
    "import torch\n",
    "import helper\n",
    "import problem_unittests as tests\n",
    "\n",
    "_, vocab_to_int, int_to_vocab, token_dict = helper.load_preprocess()\n",
    "trained_rnn = helper.load_model('./save/trained_rnn')"
   ]
  },
  {
   "cell_type": "markdown",
   "metadata": {},
   "source": [
    "## Generate TV Script\n",
    "With the network trained and saved, you'll use it to generate a new, \"fake\" Seinfeld TV script in this section.\n",
    "\n",
    "### Generate Text\n",
    "To generate the text, the network needs to start with a single word and repeat it's predictions until it reaches a set length. You'll be using the `generate` function to do this. It takes a word id to start with, `prime_id`, and generates a set length of text, `predict_len`."
   ]
  },
  {
   "cell_type": "code",
   "execution_count": 22,
   "metadata": {},
   "outputs": [],
   "source": [
    "\"\"\"\n",
    "DON'T MODIFY ANYTHING IN THIS CELL THAT IS BELOW THIS LINE\n",
    "\"\"\"\n",
    "def generate(rnn, prime_id, int_to_vocab, token_dict, pad_value, predict_len=100):\n",
    "    \"\"\"\n",
    "    Generate text using the neural network\n",
    "    :param decoder: The PyTorch Module that holds the trained neural network\n",
    "    :param prime_id: The word id to start the first prediction\n",
    "    :param int_to_vocab: Dict of word id keys to word values\n",
    "    :param token_dict: Dict of puncuation tokens keys to puncuation values\n",
    "    :param pad_value: The value used to pad a sequence\n",
    "    :param predict_len: The length of text to generate\n",
    "    :return: The generated text\n",
    "    \"\"\"\n",
    "    \n",
    "    rnn.eval() # eval mode\n",
    "    \n",
    "    # create a sequence (batch_size=1) with the prime_id\n",
    "    current_seq = np.full((1, sequence_length), pad_value)\n",
    "    current_seq[-1][-1] = prime_id\n",
    "    predicted = [int_to_vocab[prime_id]]\n",
    "    \n",
    "    for _ in range(predict_len):\n",
    "        if train_on_gpu:\n",
    "            current_seq = torch.LongTensor(current_seq).cuda()\n",
    "        else:\n",
    "            current_seq = torch.LongTensor(current_seq)\n",
    "        \n",
    "        # initialize the hidden state\n",
    "        hidden = rnn.init_hidden(current_seq.size(0))\n",
    "        \n",
    "        # get the output of the rnn\n",
    "        output, _ = rnn(current_seq, hidden)\n",
    "        \n",
    "        # get the index of the most likely next word\n",
    "        top_i = torch.multinomial(output.exp().data, 1).item()\n",
    "        # retrieve that word from the dictionary\n",
    "        word = int_to_vocab[top_i]\n",
    "        predicted.append(word)\n",
    "        \n",
    "        # the generated word becomes the next \"current sequence\" and the cycle can continue\n",
    "        current_seq = np.roll(current_seq, -1, 1)\n",
    "        current_seq[-1][-1] = top_i\n",
    "    \n",
    "    gen_sentences = ' '.join(predicted)\n",
    "    \n",
    "    # Replace punctuation tokens\n",
    "    for key, token in token_dict.items():\n",
    "        ending = ' ' if key in ['\\n', '(', '\"'] else ''\n",
    "        gen_sentences = gen_sentences.replace(' ' + token.lower(), key)\n",
    "    gen_sentences = gen_sentences.replace('\\n ', '\\n')\n",
    "    gen_sentences = gen_sentences.replace('( ', '(')\n",
    "    \n",
    "    # return all the sentences\n",
    "    return gen_sentences"
   ]
  },
  {
   "cell_type": "markdown",
   "metadata": {},
   "source": [
    "### Generate a New Script\n",
    "It's time to generate the text. Set `gen_length` to the length of TV script you want to generate and set `prime_word` to one of the following to start the prediction:\n",
    "- \"jerry\"\n",
    "- \"elaine\"\n",
    "- \"george\"\n",
    "- \"kramer\"\n",
    "\n",
    "You can set the prime word to _any word_ in our dictionary, but it's best to start with a name for generating a TV script. (You can also start with any other names you find in the original text file!)"
   ]
  },
  {
   "cell_type": "code",
   "execution_count": 23,
   "metadata": {},
   "outputs": [
    {
     "name": "stderr",
     "output_type": "stream",
     "text": [
      "/home/ubuntu/anaconda3/envs/pytorch_p36/lib/python3.6/site-packages/ipykernel/__main__.py:61: UserWarning: RNN module weights are not part of single contiguous chunk of memory. This means they need to be compacted at every call, possibly greatly increasing memory usage. To compact weights again call flatten_parameters().\n"
     ]
    },
    {
     "name": "stdout",
     "output_type": "stream",
     "text": [
      "jerry: there haunting over schemes cover) nails nails jerry: there provocative wrestle prophesied osteoporosis) earrings truly man#2: nails nails jerry: millennium man#2: nails nails pint coordinated lodged i'm unmatched unequivocal apprehension arthur nails nails kramer/turkey: 'im cracking moved mouton keamer's cheever schemes chore november mask arthur raised mean schemes wring bobo cloud laadadeeda arthur 80% trendy waaaaahhhh raised shoes altercation bobulated to prophesied snores unequivocal raft] 1397 man#2: joyful jessie confronting arthur nails nails buts poo *records* zipping baths man#2: review nails nails pint cheever agree arthur sinks perfection enthusiastic man#2: millennium arthur zipping jingle shoes wipers toots keamer's lowbrow raised keamer's raised triangles jessie clapping dented embedded surd brentano's angered 357 arthur nails nails sponsor importantly arthur raised [shrugs] jessie hehee to hanger angered eject abierta 74 arthur jessie germanic adamant regularly delicacies angered prophesied buckles: arthur zipping november prophesied 124 arthur nails nails jerry: gimme eject fired arthur nails nails jerry: boca i'm truly bacteria to sasquatch- *long* bought vegas arthur nails nails jerry: importantly keamer's importantly arthur lodged gist raised tow raised shoes formal man#2: nails nails dancer importantly arthur nails nails sponsor earrings morons jessie suzanna igloo man#2: nails nails jerry: refusing funeral's handbag arthur prophesied bloom mainly regularly prophesied cheek keamer's 'im jessie sinks knot druggy haarwood i'm regularly prophesied resents raisin keamer's joyful zipping sinks wipers prophesied writer arthur nails nails jayne vinegar arthur expecially angered schemes generously arthur nails nails jerry: wrestle arthur nails nails delicately armstrong's arthur nails nails jerry: sea- bye review nails nails witchita ended keamer's prefa' keamer's septum seinfelds chore swish shrink arthur jessie know keamer's prophesied racket- hops hehee raised 80% arthur spilling gist haarwood *inside* ruin dcolletage wasnt regularly schemes pornography arthur nails nails locating exclude review ooze man#2: dented now's sculptor hatred arthur nails nails bawdy arthur arthur arthur pendant prophesied aquarium arthur dented humudity noooo filbert galloogy unequivocal ex: arthur magazines funeral's eye review review there seventy *stinks*) jessie 'serenity to mannequin mouton man#2: refusing snoopy arthur nails nails jerry: millennium keamer's jessie surd finger ferry sayd eject objectionable about prophesied william- *fruit* arthur arthur arthur frantically describing hehee prophesied becoming saccomanno factly] arthur raised 'serenity prophesied embarrassing ledge dented compose arthur nails nails kramer/turkey: solar detroit galloogy arthur rudy: good' spotting detective arthur nails nails bawdy there 'mental to sasquatch) jessie adopted jessie exports heraldic dented visaki\n"
     ]
    }
   ],
   "source": [
    "# run the cell multiple times to get different results!\n",
    "gen_length = 400 # modify the length to your preference\n",
    "prime_word = 'jerry' # name for starting the script\n",
    "\n",
    "\"\"\"\n",
    "DON'T MODIFY ANYTHING IN THIS CELL THAT IS BELOW THIS LINE\n",
    "\"\"\"\n",
    "pad_word = helper.SPECIAL_WORDS['PADDING']\n",
    "generated_script = generate(trained_rnn, vocab_to_int[prime_word + ':'], int_to_vocab, token_dict, vocab_to_int[pad_word], gen_length)\n",
    "print(generated_script)"
   ]
  },
  {
   "cell_type": "markdown",
   "metadata": {},
   "source": [
    "#### Save your favorite scripts\n",
    "\n",
    "Once you have a script that you like (or find interesting), save it to a text file!"
   ]
  },
  {
   "cell_type": "code",
   "execution_count": 24,
   "metadata": {},
   "outputs": [],
   "source": [
    "# save script to a text file\n",
    "f =  open(\"generated_script_1.txt\",\"w\")\n",
    "f.write(generated_script)\n",
    "f.close()"
   ]
  },
  {
   "cell_type": "markdown",
   "metadata": {},
   "source": [
    "# The TV Script is Nonsensical\n",
    "It's ok if the TV script doesn't make any sense.  It takes quite a while to get good results, and often, you'll have to use a smaller vocabulary (and discard uncommon words), or get more data.  The Seinfeld dataset is about 3.4 MB, which is big enough for our purposes; for script generation you'll want more than 1 MB of text, generally. \n",
    "\n",
    "# Submitting This Project\n",
    "When submitting this project, make sure to run all the cells before saving the notebook. Save the notebook file as \"dlnd_tv_script_generation.ipynb\" and save another copy as an HTML file by clicking \"File\" -> \"Download as..\"->\"html\". Include the \"helper.py\" and \"problem_unittests.py\" files in your submission. Once you download these files, compress them into one zip file for submission."
   ]
  },
  {
   "cell_type": "code",
   "execution_count": null,
   "metadata": {},
   "outputs": [],
   "source": []
  }
 ],
 "metadata": {
  "kernelspec": {
   "display_name": "Environment (conda_pytorch_p36)",
   "language": "python",
   "name": "conda_pytorch_p36"
  },
  "language_info": {
   "codemirror_mode": {
    "name": "ipython",
    "version": 3
   },
   "file_extension": ".py",
   "mimetype": "text/x-python",
   "name": "python",
   "nbconvert_exporter": "python",
   "pygments_lexer": "ipython3",
   "version": "3.6.5"
  },
  "widgets": {
   "state": {},
   "version": "1.1.2"
  }
 },
 "nbformat": 4,
 "nbformat_minor": 2
}
